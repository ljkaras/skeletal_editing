{
 "cells": [
  {
   "cell_type": "markdown",
   "id": "ba134c5e",
   "metadata": {},
   "source": [
    "# IMPORTS"
   ]
  },
  {
   "cell_type": "code",
   "execution_count": 1,
   "id": "a29e5551",
   "metadata": {
    "ExecuteTime": {
     "end_time": "2024-03-18T15:14:39.564058Z",
     "start_time": "2024-03-18T15:14:38.595301Z"
    }
   },
   "outputs": [],
   "source": [
    "import pandas as pd\n",
    "from rdkit import Chem\n",
    "from rdkit.Chem import Descriptors, AllChem\n",
    "from rdkit.ML.Descriptors import MoleculeDescriptors\n"
   ]
  },
  {
   "cell_type": "markdown",
   "id": "7969b3d9",
   "metadata": {},
   "source": [
    "# LOAD FILE"
   ]
  },
  {
   "cell_type": "code",
   "execution_count": 2,
   "id": "ada44cca",
   "metadata": {
    "ExecuteTime": {
     "end_time": "2024-03-18T15:14:58.977129Z",
     "start_time": "2024-03-18T15:14:39.842888Z"
    }
   },
   "outputs": [
    {
     "data": {
      "text/html": [
       "<div>\n",
       "<style scoped>\n",
       "    .dataframe tbody tr th:only-of-type {\n",
       "        vertical-align: middle;\n",
       "    }\n",
       "\n",
       "    .dataframe tbody tr th {\n",
       "        vertical-align: top;\n",
       "    }\n",
       "\n",
       "    .dataframe thead th {\n",
       "        text-align: right;\n",
       "    }\n",
       "</style>\n",
       "<table border=\"1\" class=\"dataframe\">\n",
       "  <thead>\n",
       "    <tr style=\"text-align: right;\">\n",
       "      <th></th>\n",
       "      <th>SMILES</th>\n",
       "      <th>ID</th>\n",
       "    </tr>\n",
       "  </thead>\n",
       "  <tbody>\n",
       "    <tr>\n",
       "      <th>0</th>\n",
       "      <td>CS(=O)(=O)CCSc1ncncc1Br</td>\n",
       "      <td>Z1439298257</td>\n",
       "    </tr>\n",
       "    <tr>\n",
       "      <th>1</th>\n",
       "      <td>Brc1cncnc1SC1CCOCC1</td>\n",
       "      <td>Z1517711890</td>\n",
       "    </tr>\n",
       "    <tr>\n",
       "      <th>2</th>\n",
       "      <td>Cc1nnc(Sc2ncncc2Br)s1</td>\n",
       "      <td>Z1439143680</td>\n",
       "    </tr>\n",
       "    <tr>\n",
       "      <th>3</th>\n",
       "      <td>CCOC(=O)CSc1ncncc1Br</td>\n",
       "      <td>Z1422087508</td>\n",
       "    </tr>\n",
       "    <tr>\n",
       "      <th>4</th>\n",
       "      <td>Cn1nnnc1Sc1ncncc1Br</td>\n",
       "      <td>Z1439139352</td>\n",
       "    </tr>\n",
       "    <tr>\n",
       "      <th>...</th>\n",
       "      <td>...</td>\n",
       "      <td>...</td>\n",
       "    </tr>\n",
       "    <tr>\n",
       "      <th>16803384</th>\n",
       "      <td>O=C(CC1=Cc2ccccc2C1)N[C@H]1CCN(C(=O)c2cncnc2)C1</td>\n",
       "      <td>PV-003411773915</td>\n",
       "    </tr>\n",
       "    <tr>\n",
       "      <th>16803385</th>\n",
       "      <td>O=C(CC1=Cc2ccccc2C1)NC1CCN(C(=O)c2cncnc2)C1</td>\n",
       "      <td>PV-003411773916</td>\n",
       "    </tr>\n",
       "    <tr>\n",
       "      <th>16803386</th>\n",
       "      <td>N#Cc1cnc(CNC(=O)Nc2cccc3c2CN(C2CC2)C3)nc1N</td>\n",
       "      <td>PV-009425038621</td>\n",
       "    </tr>\n",
       "    <tr>\n",
       "      <th>16803387</th>\n",
       "      <td>Cc1ncncc1C(=O)N1CC(NC(=O)c2ccc3c(c2)CCC=C3)C1</td>\n",
       "      <td>PV-000493923085</td>\n",
       "    </tr>\n",
       "    <tr>\n",
       "      <th>16803388</th>\n",
       "      <td>N#CCCC(=O)NCc1ccc2c(c1)CCC2NC(=O)c1cncnc1</td>\n",
       "      <td>PV-009430250244</td>\n",
       "    </tr>\n",
       "  </tbody>\n",
       "</table>\n",
       "<p>16803389 rows × 2 columns</p>\n",
       "</div>"
      ],
      "text/plain": [
       "                                                   SMILES               ID\n",
       "0                                 CS(=O)(=O)CCSc1ncncc1Br      Z1439298257\n",
       "1                                     Brc1cncnc1SC1CCOCC1      Z1517711890\n",
       "2                                   Cc1nnc(Sc2ncncc2Br)s1      Z1439143680\n",
       "3                                    CCOC(=O)CSc1ncncc1Br      Z1422087508\n",
       "4                                     Cn1nnnc1Sc1ncncc1Br      Z1439139352\n",
       "...                                                   ...              ...\n",
       "16803384  O=C(CC1=Cc2ccccc2C1)N[C@H]1CCN(C(=O)c2cncnc2)C1  PV-003411773915\n",
       "16803385      O=C(CC1=Cc2ccccc2C1)NC1CCN(C(=O)c2cncnc2)C1  PV-003411773916\n",
       "16803386       N#Cc1cnc(CNC(=O)Nc2cccc3c2CN(C2CC2)C3)nc1N  PV-009425038621\n",
       "16803387    Cc1ncncc1C(=O)N1CC(NC(=O)c2ccc3c(c2)CCC=C3)C1  PV-000493923085\n",
       "16803388        N#CCCC(=O)NCc1ccc2c(c1)CCC2NC(=O)c1cncnc1  PV-009430250244\n",
       "\n",
       "[16803389 rows x 2 columns]"
      ]
     },
     "metadata": {},
     "output_type": "display_data"
    }
   ],
   "source": [
    "# Assuming your CSV file is named 'example.csv' and is in the same directory as your script\n",
    "file_path = '../../real350_aromatic_pyrimidine.csv'\n",
    "\n",
    "# Load the CSV file into a DataFrame\n",
    "pyrimidine = pd.read_csv(file_path)\n",
    "display(pyrimidine)"
   ]
  },
  {
   "cell_type": "markdown",
   "id": "5266e1d5",
   "metadata": {},
   "source": [
    "# HELPER FUNCTIONS"
   ]
  },
  {
   "cell_type": "code",
   "execution_count": 6,
   "id": "ee012052",
   "metadata": {
    "ExecuteTime": {
     "end_time": "2024-03-18T15:06:00.159286Z",
     "start_time": "2024-03-18T15:06:00.148764Z"
    }
   },
   "outputs": [],
   "source": [
    "def RDkit_descriptors(df, smiles_column='smiles'):\n",
    "    mols = [Chem.MolFromSmiles(smiles) for smiles in df[smiles_column] if Chem.MolFromSmiles(smiles) is not None]\n",
    "    \n",
    "    if not mols:\n",
    "        print(\"No valid molecules found.\")\n",
    "        return None\n",
    "\n",
    "    calc = MoleculeDescriptors.MolecularDescriptorCalculator([desc[0] for desc in Descriptors._descList])\n",
    "    desc_names = calc.GetDescriptorNames()\n",
    "\n",
    "    Mol_descriptors = []\n",
    "    for mol in mols:\n",
    "        mol = Chem.AddHs(mol)\n",
    "        descriptors = calc.CalcDescriptors(mol)\n",
    "        Mol_descriptors.append(descriptors)\n",
    "\n",
    "    descriptors_df = pd.DataFrame(Mol_descriptors, columns=desc_names)\n",
    "    \n",
    "    # Concatenate the original DataFrame with the descriptors DataFrame\n",
    "    df_with_descriptors = pd.concat([df, descriptors_df], axis=1)\n",
    "\n",
    "    return df_with_descriptors\n",
    "\n",
    "# # Example usage:\n",
    "# # Assuming you have a DataFrame named 'your_dataframe' with a column named 'smiles'\n",
    "# your_dataframe = pd.DataFrame({'smiles': ['CCO', 'CCN', 'CCOCC', 'C1=CC=CC=C1']})\n",
    "# your_dataframe_with_descriptors = RDkit_descriptors(your_dataframe)\n",
    "\n",
    "# # Print the DataFrame with descriptors\n",
    "# display(your_dataframe_with_descriptors)"
   ]
  },
  {
   "cell_type": "code",
   "execution_count": null,
   "id": "6a85414c",
   "metadata": {
    "ExecuteTime": {
     "start_time": "2024-03-18T15:06:35.066Z"
    }
   },
   "outputs": [],
   "source": [
    "df_descriptors = RDkit_descriptors(pyrimidine, smiles_column=\"SMILES\")"
   ]
  },
  {
   "cell_type": "code",
   "execution_count": null,
   "id": "57467986",
   "metadata": {
    "ExecuteTime": {
     "start_time": "2024-03-18T15:06:41.613Z"
    }
   },
   "outputs": [],
   "source": [
    "display(df_descriptors)"
   ]
  },
  {
   "cell_type": "code",
   "execution_count": null,
   "id": "34eec54c",
   "metadata": {
    "ExecuteTime": {
     "start_time": "2024-03-18T15:12:48.227Z"
    }
   },
   "outputs": [],
   "source": [
    "###"
   ]
  },
  {
   "cell_type": "code",
   "execution_count": 4,
   "id": "5c0279d3",
   "metadata": {
    "ExecuteTime": {
     "end_time": "2024-03-18T15:15:39.388184Z",
     "start_time": "2024-03-18T15:15:39.253155Z"
    }
   },
   "outputs": [
    {
     "name": "stdout",
     "output_type": "stream",
     "text": [
      "  smiles  MaxAbsEStateIndex  MaxEStateIndex  MinAbsEStateIndex  \\\n",
      "0    CCO           6.520833        6.520833           2.854167   \n",
      "1   CCCC           7.005208        7.005208           3.314583   \n",
      "2    CCN           6.687500        6.687500           0.458333   \n",
      "3  O=C=O           8.125000        8.125000           0.250000   \n",
      "4    C#N           6.986111        6.986111           1.000000   \n",
      "\n",
      "   MinEStateIndex       qed   MolWt  HeavyAtomMolWt  ExactMolWt  \\\n",
      "0       -2.880208  0.406808  46.069          40.021   46.041865   \n",
      "1       -3.411458  0.431024  58.124          48.044   58.078250   \n",
      "2       -2.947917  0.406237  45.085          38.029   45.057849   \n",
      "3        0.250000  0.364167  44.009          44.009   43.989829   \n",
      "4        1.000000  0.369797  27.026          26.018   27.010899   \n",
      "\n",
      "   NumValenceElectrons  ...  fr_sulfide  fr_sulfonamd  fr_sulfone  \\\n",
      "0                   20  ...           0             0           0   \n",
      "1                   26  ...           0             0           0   \n",
      "2                   20  ...           0             0           0   \n",
      "3                   16  ...           0             0           0   \n",
      "4                   10  ...           0             0           0   \n",
      "\n",
      "   fr_term_acetylene  fr_tetrazole  fr_thiazole  fr_thiocyan  fr_thiophene  \\\n",
      "0                  0             0            0            0             0   \n",
      "1                  0             0            0            0             0   \n",
      "2                  0             0            0            0             0   \n",
      "3                  0             0            0            0             0   \n",
      "4                  0             0            0            0             0   \n",
      "\n",
      "   fr_unbrch_alkane  fr_urea  \n",
      "0                 0        0  \n",
      "1                 0        0  \n",
      "2                 0        0  \n",
      "3                 0        0  \n",
      "4                 0        0  \n",
      "\n",
      "[5 rows x 210 columns]\n"
     ]
    }
   ],
   "source": [
    "from concurrent.futures import ThreadPoolExecutor\n",
    "\n",
    "def compute_descriptors(smiles):\n",
    "    mol = Chem.MolFromSmiles(smiles)\n",
    "    if mol is None:\n",
    "        return None\n",
    "\n",
    "    mol = Chem.AddHs(mol)\n",
    "    calc = MoleculeDescriptors.MolecularDescriptorCalculator([desc[0] for desc in Descriptors._descList])\n",
    "    descriptors = calc.CalcDescriptors(mol)\n",
    "    return descriptors\n",
    "\n",
    "def RDkit_descriptors_parallel(df, smiles_column='smiles', num_workers=4):\n",
    "    smiles_list = df[smiles_column].tolist()\n",
    "    \n",
    "    with ThreadPoolExecutor(max_workers=num_workers) as executor:\n",
    "        results = list(executor.map(compute_descriptors, smiles_list))\n",
    "\n",
    "    # Filter out None values (invalid molecules)\n",
    "    valid_results = [res for res in results if res is not None]\n",
    "\n",
    "    if not valid_results:\n",
    "        print(\"No valid molecules found.\")\n",
    "        return None\n",
    "\n",
    "    desc_names = MoleculeDescriptors.MolecularDescriptorCalculator([desc[0] for desc in Descriptors._descList]).GetDescriptorNames()\n",
    "    descriptors_df = pd.DataFrame(valid_results, columns=desc_names)\n",
    "    \n",
    "    # Concatenate the original DataFrame with the descriptors DataFrame\n",
    "    df_with_descriptors = pd.concat([df, descriptors_df], axis=1)\n",
    "\n",
    "    return df_with_descriptors\n",
    "\n",
    "# # Example usage\n",
    "# df = pd.DataFrame({'smiles': ['CCO', 'CCCC', 'CCN', 'O=C=O', 'C#N']})\n",
    "# result = RDkit_descriptors_parallel(df)\n",
    "# print(result)\n"
   ]
  },
  {
   "cell_type": "code",
   "execution_count": null,
   "id": "ea02f762",
   "metadata": {
    "ExecuteTime": {
     "start_time": "2024-03-18T15:18:15.661Z"
    }
   },
   "outputs": [
    {
     "name": "stdout",
     "output_type": "stream",
     "text": [
      "Total SMILES in DataFrame: 100000\n"
     ]
    }
   ],
   "source": [
    "import pandas as pd\n",
    "from concurrent.futures import ThreadPoolExecutor\n",
    "\n",
    "def compute_descriptors(smiles):\n",
    "    mol = Chem.MolFromSmiles(smiles)\n",
    "    if mol is None:\n",
    "        return None\n",
    "\n",
    "    mol = Chem.AddHs(mol)\n",
    "    calc = MoleculeDescriptors.MolecularDescriptorCalculator([desc[0] for desc in Descriptors._descList])\n",
    "    descriptors = calc.CalcDescriptors(mol)\n",
    "    return descriptors\n",
    "\n",
    "def RDkit_descriptors_parallel(df, smiles_column='smiles', num_workers=4, batch_size=100000):\n",
    "    total_smiles = len(df)\n",
    "    print(f\"Total SMILES in DataFrame: {total_smiles}\")\n",
    "\n",
    "    all_descriptors = []\n",
    "    for i in range(0, total_smiles, batch_size):\n",
    "        batch_df = df.iloc[i:i + batch_size]\n",
    "        smiles_list = batch_df[smiles_column].tolist()\n",
    "\n",
    "        with ThreadPoolExecutor(max_workers=num_workers) as executor:\n",
    "            results = list(executor.map(compute_descriptors, smiles_list))\n",
    "\n",
    "        # Filter out None values (invalid molecules)\n",
    "        valid_results = [res for res in results if res is not None]\n",
    "\n",
    "        if not valid_results:\n",
    "            print(f\"No valid molecules found in batch {i // batch_size + 1}.\")\n",
    "            continue\n",
    "\n",
    "        desc_names = MoleculeDescriptors.MolecularDescriptorCalculator([desc[0] for desc in Descriptors._descList]).GetDescriptorNames()\n",
    "        descriptors_df = pd.DataFrame(valid_results, columns=desc_names)\n",
    "        all_descriptors.append(descriptors_df)\n",
    "\n",
    "        print(f\"Processed batch {i // batch_size + 1} ({min(i + batch_size, total_smiles)} out of {total_smiles} SMILES).\")\n",
    "\n",
    "    # Concatenate all descriptor DataFrames\n",
    "    final_descriptors_df = pd.concat(all_descriptors, ignore_index=True)\n",
    "    \n",
    "    # Concatenate the original DataFrame with the descriptors DataFrame\n",
    "    df_with_descriptors = pd.concat([df, final_descriptors_df], axis=1)\n",
    "\n",
    "    return df_with_descriptors\n",
    "\n",
    "# Example usage\n",
    "df = pd.DataFrame({'smiles': ['CCO', 'CCCC', 'CCN', 'O=C=O', 'C#N'] * 20000})  # Sample DataFrame with 100,000 SMILES\n",
    "result = RDkit_descriptors_parallel(df)\n",
    "print(result)\n"
   ]
  },
  {
   "cell_type": "code",
   "execution_count": null,
   "id": "efad2322",
   "metadata": {},
   "outputs": [],
   "source": []
  }
 ],
 "metadata": {
  "kernelspec": {
   "display_name": "ullmann_project",
   "language": "python",
   "name": "ullmann_project"
  },
  "language_info": {
   "codemirror_mode": {
    "name": "ipython",
    "version": 3
   },
   "file_extension": ".py",
   "mimetype": "text/x-python",
   "name": "python",
   "nbconvert_exporter": "python",
   "pygments_lexer": "ipython3",
   "version": "3.9.12"
  },
  "toc": {
   "base_numbering": 1,
   "nav_menu": {},
   "number_sections": true,
   "sideBar": true,
   "skip_h1_title": false,
   "title_cell": "Table of Contents",
   "title_sidebar": "Contents",
   "toc_cell": false,
   "toc_position": {},
   "toc_section_display": true,
   "toc_window_display": false
  }
 },
 "nbformat": 4,
 "nbformat_minor": 5
}
