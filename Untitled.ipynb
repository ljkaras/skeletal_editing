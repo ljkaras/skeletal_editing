{
 "cells": [
  {
   "cell_type": "code",
   "execution_count": 1,
   "id": "0493a352",
   "metadata": {
    "ExecuteTime": {
     "end_time": "2024-03-13T20:47:23.453338Z",
     "start_time": "2024-03-13T20:47:10.867825Z"
    }
   },
   "outputs": [],
   "source": [
    "from rdkit import Chem\n",
    "from rdkit.Chem import AllChem, Draw, rdchem, Descriptors, PandasTools, DataStructs, rdMolDescriptors, Lipinski\n",
    "from rdkit.Chem.FilterCatalog import FilterCatalog, FilterCatalogParams\n",
    "from rdkit.ML.Descriptors import MoleculeDescriptors\n",
    "from rdkit.ML.Cluster import Butina\n",
    "from rdkit.SimDivFilters.rdSimDivPickers import MaxMinPicker\n",
    "\n",
    "from scipy.spatial.distance import pdist, squareform\n",
    "\n",
    "import pandas as pd\n",
    "import numpy as np\n",
    "import matplotlib.pyplot as plt\n",
    "\n",
    "import matplotlib\n",
    "matplotlib.rcParams['font.family'] = 'Arial'\n",
    "matplotlib.rcParams['font.size'] = 10"
   ]
  },
  {
   "cell_type": "code",
   "execution_count": null,
   "id": "fb4b6e68",
   "metadata": {},
   "outputs": [],
   "source": [
    "smiles = [\"c1ccccc1\", \"c1cnccc1\", \"Cc1ccncc1\", \"C1CCCCC1\", \"c1[nH]ccc1\"]\n"
   ]
  },
  {
   "cell_type": "code",
   "execution_count": 4,
   "id": "0cff86ff",
   "metadata": {
    "ExecuteTime": {
     "end_time": "2024-03-13T21:03:57.826741Z",
     "start_time": "2024-03-13T21:03:57.814313Z"
    }
   },
   "outputs": [
    {
     "name": "stdout",
     "output_type": "stream",
     "text": [
      "True\n",
      "True\n",
      "True\n",
      "False\n",
      "True\n"
     ]
    }
   ],
   "source": [
    "smiles = [\"c1ccccc1\", \"c1cnccc1\", \"Cc1ccncc1\", \"C1CCCCC1\", \"c1[nH]ccc1\"]\n",
    "molecules = []\n",
    "for smiles in smiles:\n",
    "    mol = Chem.MolFromSmiles(smiles)\n",
    "    molecules.append(mol)\n",
    "\n",
    "# Create a molecule object from the SMARTS pattern\n",
    "substructure = Chem.MolFromSmarts('[c]')\n",
    "\n",
    "# Find substructure matches in the target molecule\n",
    "for mol in molecules:\n",
    "    subs = mol.HasSubstructMatch(substructure)\n",
    "    if subs:\n",
    "        print()\n",
    "#     submatch = mol.GetSubstructMatches(substructure)\n",
    "#     print(submatch)"
   ]
  },
  {
   "cell_type": "code",
   "execution_count": 27,
   "id": "58417483",
   "metadata": {
    "ExecuteTime": {
     "end_time": "2024-03-13T21:36:05.217004Z",
     "start_time": "2024-03-13T21:36:05.191546Z"
    }
   },
   "outputs": [
    {
     "name": "stdout",
     "output_type": "stream",
     "text": [
      "7953\n",
      "7953.0\n"
     ]
    }
   ],
   "source": [
    "total_lines = 795384\n",
    "one_percent_lines = total_lines / 100\n",
    "processed_lines = (total_lines // 100)\n",
    "\n",
    "print(processed_lines % one_percent_lines)\n",
    "\n",
    "if processed_lines % one_percent_lines == 0:\n",
    "    print(f\"Processed {processed_lines / total_lines * 100:.0f}% of compounds.\")"
   ]
  },
  {
   "cell_type": "code",
   "execution_count": null,
   "id": "0d4a814a",
   "metadata": {},
   "outputs": [],
   "source": [
    "fiveMR = Chem.MolFromSmarts(\"c[NH]\")\n",
    "\n",
    "smiles = 'O=C(C1=CC=CC=C1)[C@@]([C@](C[N+]([O-])=O)([H])C2=CC=CC=C2)([H])C(N3CCOCC3)=O'\n",
    "mol = Chem.MolFromSmiles(smiles)\n",
    "\n",
    "            return any(mol.HasSubstructMatch(fg) for fg in functional_groups.values())\n",
    "        except Exception as e:\n",
    "            print(f\"Error processing molecule {smiles}: {e}\")\n",
    "            return False\n"
   ]
  },
  {
   "cell_type": "code",
   "execution_count": null,
   "id": "d92f8c84",
   "metadata": {},
   "outputs": [],
   "source": []
  },
  {
   "cell_type": "code",
   "execution_count": null,
   "id": "22cc93c5",
   "metadata": {},
   "outputs": [],
   "source": [
    "from rdkit import Chem\n",
    "import pandas as pd\n",
    "\n",
    "def filter_by_FGs(df, column_name='Smiles'):\n",
    "    \"\"\"\n",
    "    Filters a DataFrame of molecules based on the presence of specific functional groups.\n",
    "\n",
    "    Parameters:\n",
    "    - df (pd.DataFrame): The DataFrame to filter, containing a column with SMILES strings.\n",
    "    - column_name (str): The name of the column containing SMILES strings.\n",
    "\n",
    "    Returns:\n",
    "    - pd.DataFrame: The filtered DataFrame without the specified functional groups.\n",
    "    - pd.DataFrame: DataFrame of molecules that were removed based on the filter.\n",
    "    \"\"\"\n",
    "    # Ensure the specified column exists in the DataFrame\n",
    "    if column_name not in df.columns:\n",
    "        raise ValueError(f\"DataFrame must have a '{column_name}' column\")\n",
    "\n",
    "    print(f\"Initial molecule count: {len(df)}\")\n",
    "\n",
    "    # Define SMARTS patterns for various functional groups\n",
    "    functional_groups = {\n",
    "        'anilines': \"c[NH]\",\n",
    "        'michael_acceptor': \"C=C(C=O)\",\n",
    "        'sulfonyl_halide': \"S(=O)(=O)[F,Cl,Br,I]\",\n",
    "        'nitro_group': \"[N+](=O)[O-]\",\n",
    "        'aldehyde': \"[HC]=O\",\n",
    "        'primary_alkyl_halide': \"[Cl,Br,I][CH2]\",\n",
    "        'epoxide_or_aziridine': \"C1[O,N]C1\",\n",
    "        'sulfonate_ester': \"[#6]S(=O)(=O)O[#6]\",\n",
    "        'phosphonate_ester': \"[#6]OP(=O)(O[#6])O[#6]\",\n",
    "        'long_aliphatic_chain': \"[CH2][CH2][CH2][CH2][CH2][CH2][CH2][CH2]\",\n",
    "        'peroxide': \"OO\",\n",
    "        'dicarbonyl': \"C(=O)C(=O)\",\n",
    "        'acid_halide': \"C(=O)[Cl,Br,I]\"\n",
    "    }\n",
    "\n",
    "    # Convert SMARTS strings to RDKit Mol objects for substructure matching\n",
    "    functional_groups = {key: Chem.MolFromSmarts(value) for key, value in functional_groups.items()}\n",
    "\n",
    "    def contains_functional_group(smiles):\n",
    "        \"\"\"Checks if a molecule contains any of the specified functional groups.\"\"\"\n",
    "        try:\n",
    "            mol = Chem.MolFromSmiles(smiles)\n",
    "            if mol is None:\n",
    "                return False\n",
    "            return any(mol.HasSubstructMatch(fg) for fg in functional_groups.values())\n",
    "        except Exception as e:\n",
    "            print(f\"Error processing molecule {smiles}: {e}\")\n",
    "            return False\n",
    "\n",
    "    # Apply the contains_functional_group function to each SMILES string in the DataFrame\n",
    "    df['ContainsFG'] = df[column_name].apply(contains_functional_group)\n",
    "    \n",
    "    # Split the DataFrame into two: one with molecules not containing the specified functional groups and one with removed molecules\n",
    "    filtered_df = df[~df['ContainsFG']].copy()\n",
    "    removed_df = df[df['ContainsFG']].copy()\n",
    "    \n",
    "    print(f\"After filtering functional groups: {len(filtered_df)}\")\n",
    "    \n",
    "    # Drop the temporary 'ContainsFG' column from both DataFrames before returning\n",
    "    filtered_df = filtered_df.drop(columns=['ContainsFG'])\n",
    "    removed_df = removed_df.drop(columns=['ContainsFG'])\n",
    "    \n",
    "    print(f\"Remove Unwanted Functional Groups Done!\\n\")\n",
    "\n",
    "    # Return the filtered DataFrame and the DataFrame with removed molecules\n",
    "    return filtered_df, removed_df\n",
    "\n",
    "# Example usage:\n",
    "# filtered_df, removed_df = filter_by_FGs(df, 'Smiles')\n",
    "# display(filtered_df)\n",
    "# display(removed_df)"
   ]
  }
 ],
 "metadata": {
  "kernelspec": {
   "display_name": "ullmann_project",
   "language": "python",
   "name": "ullmann_project"
  },
  "language_info": {
   "codemirror_mode": {
    "name": "ipython",
    "version": 3
   },
   "file_extension": ".py",
   "mimetype": "text/x-python",
   "name": "python",
   "nbconvert_exporter": "python",
   "pygments_lexer": "ipython3",
   "version": "3.9.12"
  },
  "toc": {
   "base_numbering": 1,
   "nav_menu": {},
   "number_sections": true,
   "sideBar": true,
   "skip_h1_title": false,
   "title_cell": "Table of Contents",
   "title_sidebar": "Contents",
   "toc_cell": false,
   "toc_position": {},
   "toc_section_display": true,
   "toc_window_display": false
  }
 },
 "nbformat": 4,
 "nbformat_minor": 5
}
